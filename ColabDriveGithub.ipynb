{
  "nbformat": 4,
  "nbformat_minor": 0,
  "metadata": {
    "colab": {
      "name": "ColabDriveGithub.ipynb",
      "provenance": [],
      "authorship_tag": "ABX9TyOw5KVnj0cpcLo3TnjxBsb+",
      "include_colab_link": true
    },
    "kernelspec": {
      "name": "python3",
      "display_name": "Python 3"
    }
  },
  "cells": [
    {
      "cell_type": "markdown",
      "metadata": {
        "id": "view-in-github",
        "colab_type": "text"
      },
      "source": [
        "<a href=\"https://colab.research.google.com/github/martynna/dw-matrix/blob/master/ColabDriveGithub.ipynb\" target=\"_parent\"><img src=\"https://colab.research.google.com/assets/colab-badge.svg\" alt=\"Open In Colab\"/></a>"
      ]
    },
    {
      "cell_type": "code",
      "metadata": {
        "id": "Y6FXW2UWGX9-",
        "colab_type": "code",
        "colab": {}
      },
      "source": [
        "from google.colab import drive"
      ],
      "execution_count": 0,
      "outputs": []
    },
    {
      "cell_type": "code",
      "metadata": {
        "id": "ZgcYfvtCHXkl",
        "colab_type": "code",
        "colab": {
          "base_uri": "https://localhost:8080/",
          "height": 124
        },
        "outputId": "b637304d-dbfd-4980-a3e9-dfde8668a6a7"
      },
      "source": [
        "ROOT='/content/drive'\n",
        "drive.mount(ROOT)"
      ],
      "execution_count": 3,
      "outputs": [
        {
          "output_type": "stream",
          "text": [
            "Go to this URL in a browser: https://accounts.google.com/o/oauth2/auth?client_id=947318989803-6bn6qk8qdgf4n4g3pfee6491hc0brc4i.apps.googleusercontent.com&redirect_uri=urn%3aietf%3awg%3aoauth%3a2.0%3aoob&response_type=code&scope=email%20https%3a%2f%2fwww.googleapis.com%2fauth%2fdocs.test%20https%3a%2f%2fwww.googleapis.com%2fauth%2fdrive%20https%3a%2f%2fwww.googleapis.com%2fauth%2fdrive.photos.readonly%20https%3a%2f%2fwww.googleapis.com%2fauth%2fpeopleapi.readonly\n",
            "\n",
            "Enter your authorization code:\n",
            "··········\n",
            "Mounted at /content/drive\n"
          ],
          "name": "stdout"
        }
      ]
    },
    {
      "cell_type": "code",
      "metadata": {
        "id": "3_5aOWzVJfwA",
        "colab_type": "code",
        "colab": {
          "base_uri": "https://localhost:8080/",
          "height": 34
        },
        "outputId": "da4c627d-33a0-4d39-9007-22096acfcb0a"
      },
      "source": [
        "HOME = ROOT + '/My Drive/Colab Notebooks'\n",
        "HOME"
      ],
      "execution_count": 5,
      "outputs": [
        {
          "output_type": "execute_result",
          "data": {
            "text/plain": [
              "'/content/drive/My Drive/Colab Notebooks'"
            ]
          },
          "metadata": {
            "tags": []
          },
          "execution_count": 5
        }
      ]
    },
    {
      "cell_type": "code",
      "metadata": {
        "id": "5dyLfp0QKC1w",
        "colab_type": "code",
        "colab": {}
      },
      "source": [
        "!mkdir -p \"{HOME}\" #cudzyslow, bo sa spacje w nazwie"
      ],
      "execution_count": 0,
      "outputs": []
    },
    {
      "cell_type": "code",
      "metadata": {
        "id": "MYDslCr2Ky-f",
        "colab_type": "code",
        "colab": {
          "base_uri": "https://localhost:8080/",
          "height": 34
        },
        "outputId": "7c981108-10f2-453d-dec0-d0af5f303a52"
      },
      "source": [
        "cd {HOME}"
      ],
      "execution_count": 7,
      "outputs": [
        {
          "output_type": "stream",
          "text": [
            "/content/drive/My Drive/Colab Notebooks\n"
          ],
          "name": "stdout"
        }
      ]
    },
    {
      "cell_type": "code",
      "metadata": {
        "id": "0Kh4d1jiLMir",
        "colab_type": "code",
        "colab": {
          "base_uri": "https://localhost:8080/",
          "height": 34
        },
        "outputId": "d5f4da0e-d111-441a-81b7-e915d30759fa"
      },
      "source": [
        "pwd"
      ],
      "execution_count": 8,
      "outputs": [
        {
          "output_type": "execute_result",
          "data": {
            "text/plain": [
              "'/content/drive/My Drive/Colab Notebooks'"
            ]
          },
          "metadata": {
            "tags": []
          },
          "execution_count": 8
        }
      ]
    },
    {
      "cell_type": "code",
      "metadata": {
        "id": "Px_F7btYMC03",
        "colab_type": "code",
        "colab": {
          "base_uri": "https://localhost:8080/",
          "height": 34
        },
        "outputId": "74703383-0233-4b52-83de-2d0e2d5dda59"
      },
      "source": [
        "GITHUB_TOKEN = '3fb5b4f11ee1fa42cd92467707dc909d788595f5'\n",
        "GITHUB_URL = 'https://{}@github.com/martynna/dw-matrix.git'.format(GITHUB_TOKEN) #token@github_repo\n",
        "GITHUB_URL"
      ],
      "execution_count": 9,
      "outputs": [
        {
          "output_type": "execute_result",
          "data": {
            "text/plain": [
              "'https://3fb5b4f11ee1fa42cd92467707dc909d788595f5@github.com/martynna/dw-matrix.git'"
            ]
          },
          "metadata": {
            "tags": []
          },
          "execution_count": 9
        }
      ]
    },
    {
      "cell_type": "markdown",
      "metadata": {
        "id": "VDFQi9fiNDeu",
        "colab_type": "text"
      },
      "source": [
        "!git clone {GITHUB_URL}"
      ]
    },
    {
      "cell_type": "code",
      "metadata": {
        "id": "H47Gm2mANiKg",
        "colab_type": "code",
        "colab": {}
      },
      "source": [
        "!git clone {GITHUB_URL}"
      ],
      "execution_count": 0,
      "outputs": []
    },
    {
      "cell_type": "code",
      "metadata": {
        "id": "5dp8tyoZNqg4",
        "colab_type": "code",
        "colab": {
          "base_uri": "https://localhost:8080/",
          "height": 34
        },
        "outputId": "f0e91563-3ee3-46be-82be-e3c62b2ad4c3"
      },
      "source": [
        "cd dw-matrix"
      ],
      "execution_count": 13,
      "outputs": [
        {
          "output_type": "stream",
          "text": [
            "/content/drive/My Drive/Colab Notebooks/dw-matrix\n"
          ],
          "name": "stdout"
        }
      ]
    },
    {
      "cell_type": "code",
      "metadata": {
        "id": "dK-c59UCOBQj",
        "colab_type": "code",
        "colab": {
          "base_uri": "https://localhost:8080/",
          "height": 86
        },
        "outputId": "95b15a74-13c2-4e6a-be8d-73edf1d4b377"
      },
      "source": [
        "ls -l"
      ],
      "execution_count": 15,
      "outputs": [
        {
          "output_type": "stream",
          "text": [
            "total 3\n",
            "-rw------- 1 root root  710 Feb 11 21:54 HelloGitHub.ipynb\n",
            "-rw------- 1 root root 1065 Feb 11 21:43 LICENSE\n",
            "-rw------- 1 root root   29 Feb 11 21:43 README.md\n"
          ],
          "name": "stdout"
        }
      ]
    },
    {
      "cell_type": "code",
      "metadata": {
        "id": "Xib_NFfJQREo",
        "colab_type": "code",
        "colab": {}
      },
      "source": [
        "!git add HelloGitHub.ipynb"
      ],
      "execution_count": 0,
      "outputs": []
    },
    {
      "cell_type": "code",
      "metadata": {
        "id": "NvDP6_VAQlqJ",
        "colab_type": "code",
        "colab": {
          "base_uri": "https://localhost:8080/",
          "height": 69
        },
        "outputId": "14f1a633-73f3-4f29-e0ac-09f47283fe71"
      },
      "source": [
        "!git commit -m \"First file commited to GitHub - HelloGitHub\""
      ],
      "execution_count": 20,
      "outputs": [
        {
          "output_type": "stream",
          "text": [
            "[master 5d03512] First file commited to GitHub - HelloGitHub\n",
            " 1 file changed, 1 insertion(+)\n",
            " create mode 100644 HelloGitHub.ipynb\n"
          ],
          "name": "stdout"
        }
      ]
    },
    {
      "cell_type": "code",
      "metadata": {
        "id": "456bL8xCQ394",
        "colab_type": "code",
        "colab": {}
      },
      "source": [
        "!git config --global user.email \"marwarda1@wp.pl\"\n",
        "!git config --global user.name \"Martyna\""
      ],
      "execution_count": 0,
      "outputs": []
    },
    {
      "cell_type": "code",
      "metadata": {
        "id": "JdFEPZfpRkX0",
        "colab_type": "code",
        "colab": {
          "base_uri": "https://localhost:8080/",
          "height": 139
        },
        "outputId": "a0de89ec-ff28-445d-a2a5-04c3de3c5e32"
      },
      "source": [
        "!git push"
      ],
      "execution_count": 21,
      "outputs": [
        {
          "output_type": "stream",
          "text": [
            "Counting objects: 3, done.\n",
            "Delta compression using up to 2 threads.\n",
            "Compressing objects:  33% (1/3)   \rCompressing objects:  66% (2/3)   \rCompressing objects: 100% (3/3)   \rCompressing objects: 100% (3/3), done.\n",
            "Writing objects:  33% (1/3)   \rWriting objects:  66% (2/3)   \rWriting objects: 100% (3/3)   \rWriting objects: 100% (3/3), 823 bytes | 274.00 KiB/s, done.\n",
            "Total 3 (delta 0), reused 0 (delta 0)\n",
            "To https://github.com/martynna/dw-matrix.git\n",
            "   39bb587..5d03512  master -> master\n"
          ],
          "name": "stdout"
        }
      ]
    }
  ]
}